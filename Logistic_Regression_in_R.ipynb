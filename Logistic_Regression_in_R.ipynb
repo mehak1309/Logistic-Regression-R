{
  "nbformat": 4,
  "nbformat_minor": 0,
  "metadata": {
    "colab": {
      "provenance": []
    },
    "kernelspec": {
      "name": "ir",
      "display_name": "R"
    },
    "language_info": {
      "name": "R"
    }
  },
  "cells": [
    {
      "cell_type": "code",
      "execution_count": 1,
      "metadata": {
        "id": "BNxJcxgOJV9Z"
      },
      "outputs": [],
      "source": [
        "url<-\"https://archive.ics.uci.edu/ml/machine-learning-databases/heart-disease/processed.cleveland.data\""
      ]
    },
    {
      "cell_type": "code",
      "source": [
        "data<-read.csv(url,header=FALSE)\n",
        "head(data)"
      ],
      "metadata": {
        "colab": {
          "base_uri": "https://localhost:8080/",
          "height": 283
        },
        "id": "ucf8T8HLJrwY",
        "outputId": "344176df-f879-493f-fe0f-26fa0e7a9151"
      },
      "execution_count": 2,
      "outputs": [
        {
          "output_type": "display_data",
          "data": {
            "text/html": [
              "<table class=\"dataframe\">\n",
              "<caption>A data.frame: 6 × 14</caption>\n",
              "<thead>\n",
              "\t<tr><th></th><th scope=col>V1</th><th scope=col>V2</th><th scope=col>V3</th><th scope=col>V4</th><th scope=col>V5</th><th scope=col>V6</th><th scope=col>V7</th><th scope=col>V8</th><th scope=col>V9</th><th scope=col>V10</th><th scope=col>V11</th><th scope=col>V12</th><th scope=col>V13</th><th scope=col>V14</th></tr>\n",
              "\t<tr><th></th><th scope=col>&lt;dbl&gt;</th><th scope=col>&lt;dbl&gt;</th><th scope=col>&lt;dbl&gt;</th><th scope=col>&lt;dbl&gt;</th><th scope=col>&lt;dbl&gt;</th><th scope=col>&lt;dbl&gt;</th><th scope=col>&lt;dbl&gt;</th><th scope=col>&lt;dbl&gt;</th><th scope=col>&lt;dbl&gt;</th><th scope=col>&lt;dbl&gt;</th><th scope=col>&lt;dbl&gt;</th><th scope=col>&lt;chr&gt;</th><th scope=col>&lt;chr&gt;</th><th scope=col>&lt;int&gt;</th></tr>\n",
              "</thead>\n",
              "<tbody>\n",
              "\t<tr><th scope=row>1</th><td>63</td><td>1</td><td>1</td><td>145</td><td>233</td><td>1</td><td>2</td><td>150</td><td>0</td><td>2.3</td><td>3</td><td>0.0</td><td>6.0</td><td>0</td></tr>\n",
              "\t<tr><th scope=row>2</th><td>67</td><td>1</td><td>4</td><td>160</td><td>286</td><td>0</td><td>2</td><td>108</td><td>1</td><td>1.5</td><td>2</td><td>3.0</td><td>3.0</td><td>2</td></tr>\n",
              "\t<tr><th scope=row>3</th><td>67</td><td>1</td><td>4</td><td>120</td><td>229</td><td>0</td><td>2</td><td>129</td><td>1</td><td>2.6</td><td>2</td><td>2.0</td><td>7.0</td><td>1</td></tr>\n",
              "\t<tr><th scope=row>4</th><td>37</td><td>1</td><td>3</td><td>130</td><td>250</td><td>0</td><td>0</td><td>187</td><td>0</td><td>3.5</td><td>3</td><td>0.0</td><td>3.0</td><td>0</td></tr>\n",
              "\t<tr><th scope=row>5</th><td>41</td><td>0</td><td>2</td><td>130</td><td>204</td><td>0</td><td>2</td><td>172</td><td>0</td><td>1.4</td><td>1</td><td>0.0</td><td>3.0</td><td>0</td></tr>\n",
              "\t<tr><th scope=row>6</th><td>56</td><td>1</td><td>2</td><td>120</td><td>236</td><td>0</td><td>0</td><td>178</td><td>0</td><td>0.8</td><td>1</td><td>0.0</td><td>3.0</td><td>0</td></tr>\n",
              "</tbody>\n",
              "</table>\n"
            ],
            "text/markdown": "\nA data.frame: 6 × 14\n\n| <!--/--> | V1 &lt;dbl&gt; | V2 &lt;dbl&gt; | V3 &lt;dbl&gt; | V4 &lt;dbl&gt; | V5 &lt;dbl&gt; | V6 &lt;dbl&gt; | V7 &lt;dbl&gt; | V8 &lt;dbl&gt; | V9 &lt;dbl&gt; | V10 &lt;dbl&gt; | V11 &lt;dbl&gt; | V12 &lt;chr&gt; | V13 &lt;chr&gt; | V14 &lt;int&gt; |\n|---|---|---|---|---|---|---|---|---|---|---|---|---|---|---|\n| 1 | 63 | 1 | 1 | 145 | 233 | 1 | 2 | 150 | 0 | 2.3 | 3 | 0.0 | 6.0 | 0 |\n| 2 | 67 | 1 | 4 | 160 | 286 | 0 | 2 | 108 | 1 | 1.5 | 2 | 3.0 | 3.0 | 2 |\n| 3 | 67 | 1 | 4 | 120 | 229 | 0 | 2 | 129 | 1 | 2.6 | 2 | 2.0 | 7.0 | 1 |\n| 4 | 37 | 1 | 3 | 130 | 250 | 0 | 0 | 187 | 0 | 3.5 | 3 | 0.0 | 3.0 | 0 |\n| 5 | 41 | 0 | 2 | 130 | 204 | 0 | 2 | 172 | 0 | 1.4 | 1 | 0.0 | 3.0 | 0 |\n| 6 | 56 | 1 | 2 | 120 | 236 | 0 | 0 | 178 | 0 | 0.8 | 1 | 0.0 | 3.0 | 0 |\n\n",
            "text/latex": "A data.frame: 6 × 14\n\\begin{tabular}{r|llllllllllllll}\n  & V1 & V2 & V3 & V4 & V5 & V6 & V7 & V8 & V9 & V10 & V11 & V12 & V13 & V14\\\\\n  & <dbl> & <dbl> & <dbl> & <dbl> & <dbl> & <dbl> & <dbl> & <dbl> & <dbl> & <dbl> & <dbl> & <chr> & <chr> & <int>\\\\\n\\hline\n\t1 & 63 & 1 & 1 & 145 & 233 & 1 & 2 & 150 & 0 & 2.3 & 3 & 0.0 & 6.0 & 0\\\\\n\t2 & 67 & 1 & 4 & 160 & 286 & 0 & 2 & 108 & 1 & 1.5 & 2 & 3.0 & 3.0 & 2\\\\\n\t3 & 67 & 1 & 4 & 120 & 229 & 0 & 2 & 129 & 1 & 2.6 & 2 & 2.0 & 7.0 & 1\\\\\n\t4 & 37 & 1 & 3 & 130 & 250 & 0 & 0 & 187 & 0 & 3.5 & 3 & 0.0 & 3.0 & 0\\\\\n\t5 & 41 & 0 & 2 & 130 & 204 & 0 & 2 & 172 & 0 & 1.4 & 1 & 0.0 & 3.0 & 0\\\\\n\t6 & 56 & 1 & 2 & 120 & 236 & 0 & 0 & 178 & 0 & 0.8 & 1 & 0.0 & 3.0 & 0\\\\\n\\end{tabular}\n",
            "text/plain": [
              "  V1 V2 V3 V4  V5  V6 V7 V8  V9 V10 V11 V12 V13 V14\n",
              "1 63 1  1  145 233 1  2  150 0  2.3 3   0.0 6.0 0  \n",
              "2 67 1  4  160 286 0  2  108 1  1.5 2   3.0 3.0 2  \n",
              "3 67 1  4  120 229 0  2  129 1  2.6 2   2.0 7.0 1  \n",
              "4 37 1  3  130 250 0  0  187 0  3.5 3   0.0 3.0 0  \n",
              "5 41 0  2  130 204 0  2  172 0  1.4 1   0.0 3.0 0  \n",
              "6 56 1  2  120 236 0  0  178 0  0.8 1   0.0 3.0 0  "
            ]
          },
          "metadata": {}
        }
      ]
    },
    {
      "cell_type": "code",
      "source": [
        "colnames(data)<-c(\n",
        "  \"age\",\n",
        "  \"sex\",\n",
        "  \"cp\",\n",
        "  \"trestbbps\",\n",
        "  \"chol\",\n",
        "  \"fbs\",\n",
        "  \"restecg\",\n",
        "  \"thalach\",\n",
        "  \"exang\",\n",
        "  \"oldpeak\",\n",
        "  \"slope\",\n",
        "  \"ca\",\n",
        "  \"thal\",\n",
        "  \"hd\")"
      ],
      "metadata": {
        "id": "0c2Yvv-5KCs2"
      },
      "execution_count": 3,
      "outputs": []
    },
    {
      "cell_type": "code",
      "source": [
        "head(data)"
      ],
      "metadata": {
        "colab": {
          "base_uri": "https://localhost:8080/",
          "height": 283
        },
        "id": "oP2Zv9NbKdN6",
        "outputId": "3af3db17-0291-425c-fa4f-6513cec430ad"
      },
      "execution_count": 4,
      "outputs": [
        {
          "output_type": "display_data",
          "data": {
            "text/html": [
              "<table class=\"dataframe\">\n",
              "<caption>A data.frame: 6 × 14</caption>\n",
              "<thead>\n",
              "\t<tr><th></th><th scope=col>age</th><th scope=col>sex</th><th scope=col>cp</th><th scope=col>trestbbps</th><th scope=col>chol</th><th scope=col>fbs</th><th scope=col>restecg</th><th scope=col>thalach</th><th scope=col>exang</th><th scope=col>oldpeak</th><th scope=col>slope</th><th scope=col>ca</th><th scope=col>thal</th><th scope=col>hd</th></tr>\n",
              "\t<tr><th></th><th scope=col>&lt;dbl&gt;</th><th scope=col>&lt;dbl&gt;</th><th scope=col>&lt;dbl&gt;</th><th scope=col>&lt;dbl&gt;</th><th scope=col>&lt;dbl&gt;</th><th scope=col>&lt;dbl&gt;</th><th scope=col>&lt;dbl&gt;</th><th scope=col>&lt;dbl&gt;</th><th scope=col>&lt;dbl&gt;</th><th scope=col>&lt;dbl&gt;</th><th scope=col>&lt;dbl&gt;</th><th scope=col>&lt;chr&gt;</th><th scope=col>&lt;chr&gt;</th><th scope=col>&lt;int&gt;</th></tr>\n",
              "</thead>\n",
              "<tbody>\n",
              "\t<tr><th scope=row>1</th><td>63</td><td>1</td><td>1</td><td>145</td><td>233</td><td>1</td><td>2</td><td>150</td><td>0</td><td>2.3</td><td>3</td><td>0.0</td><td>6.0</td><td>0</td></tr>\n",
              "\t<tr><th scope=row>2</th><td>67</td><td>1</td><td>4</td><td>160</td><td>286</td><td>0</td><td>2</td><td>108</td><td>1</td><td>1.5</td><td>2</td><td>3.0</td><td>3.0</td><td>2</td></tr>\n",
              "\t<tr><th scope=row>3</th><td>67</td><td>1</td><td>4</td><td>120</td><td>229</td><td>0</td><td>2</td><td>129</td><td>1</td><td>2.6</td><td>2</td><td>2.0</td><td>7.0</td><td>1</td></tr>\n",
              "\t<tr><th scope=row>4</th><td>37</td><td>1</td><td>3</td><td>130</td><td>250</td><td>0</td><td>0</td><td>187</td><td>0</td><td>3.5</td><td>3</td><td>0.0</td><td>3.0</td><td>0</td></tr>\n",
              "\t<tr><th scope=row>5</th><td>41</td><td>0</td><td>2</td><td>130</td><td>204</td><td>0</td><td>2</td><td>172</td><td>0</td><td>1.4</td><td>1</td><td>0.0</td><td>3.0</td><td>0</td></tr>\n",
              "\t<tr><th scope=row>6</th><td>56</td><td>1</td><td>2</td><td>120</td><td>236</td><td>0</td><td>0</td><td>178</td><td>0</td><td>0.8</td><td>1</td><td>0.0</td><td>3.0</td><td>0</td></tr>\n",
              "</tbody>\n",
              "</table>\n"
            ],
            "text/markdown": "\nA data.frame: 6 × 14\n\n| <!--/--> | age &lt;dbl&gt; | sex &lt;dbl&gt; | cp &lt;dbl&gt; | trestbbps &lt;dbl&gt; | chol &lt;dbl&gt; | fbs &lt;dbl&gt; | restecg &lt;dbl&gt; | thalach &lt;dbl&gt; | exang &lt;dbl&gt; | oldpeak &lt;dbl&gt; | slope &lt;dbl&gt; | ca &lt;chr&gt; | thal &lt;chr&gt; | hd &lt;int&gt; |\n|---|---|---|---|---|---|---|---|---|---|---|---|---|---|---|\n| 1 | 63 | 1 | 1 | 145 | 233 | 1 | 2 | 150 | 0 | 2.3 | 3 | 0.0 | 6.0 | 0 |\n| 2 | 67 | 1 | 4 | 160 | 286 | 0 | 2 | 108 | 1 | 1.5 | 2 | 3.0 | 3.0 | 2 |\n| 3 | 67 | 1 | 4 | 120 | 229 | 0 | 2 | 129 | 1 | 2.6 | 2 | 2.0 | 7.0 | 1 |\n| 4 | 37 | 1 | 3 | 130 | 250 | 0 | 0 | 187 | 0 | 3.5 | 3 | 0.0 | 3.0 | 0 |\n| 5 | 41 | 0 | 2 | 130 | 204 | 0 | 2 | 172 | 0 | 1.4 | 1 | 0.0 | 3.0 | 0 |\n| 6 | 56 | 1 | 2 | 120 | 236 | 0 | 0 | 178 | 0 | 0.8 | 1 | 0.0 | 3.0 | 0 |\n\n",
            "text/latex": "A data.frame: 6 × 14\n\\begin{tabular}{r|llllllllllllll}\n  & age & sex & cp & trestbbps & chol & fbs & restecg & thalach & exang & oldpeak & slope & ca & thal & hd\\\\\n  & <dbl> & <dbl> & <dbl> & <dbl> & <dbl> & <dbl> & <dbl> & <dbl> & <dbl> & <dbl> & <dbl> & <chr> & <chr> & <int>\\\\\n\\hline\n\t1 & 63 & 1 & 1 & 145 & 233 & 1 & 2 & 150 & 0 & 2.3 & 3 & 0.0 & 6.0 & 0\\\\\n\t2 & 67 & 1 & 4 & 160 & 286 & 0 & 2 & 108 & 1 & 1.5 & 2 & 3.0 & 3.0 & 2\\\\\n\t3 & 67 & 1 & 4 & 120 & 229 & 0 & 2 & 129 & 1 & 2.6 & 2 & 2.0 & 7.0 & 1\\\\\n\t4 & 37 & 1 & 3 & 130 & 250 & 0 & 0 & 187 & 0 & 3.5 & 3 & 0.0 & 3.0 & 0\\\\\n\t5 & 41 & 0 & 2 & 130 & 204 & 0 & 2 & 172 & 0 & 1.4 & 1 & 0.0 & 3.0 & 0\\\\\n\t6 & 56 & 1 & 2 & 120 & 236 & 0 & 0 & 178 & 0 & 0.8 & 1 & 0.0 & 3.0 & 0\\\\\n\\end{tabular}\n",
            "text/plain": [
              "  age sex cp trestbbps chol fbs restecg thalach exang oldpeak slope ca  thal hd\n",
              "1 63  1   1  145       233  1   2       150     0     2.3     3     0.0 6.0  0 \n",
              "2 67  1   4  160       286  0   2       108     1     1.5     2     3.0 3.0  2 \n",
              "3 67  1   4  120       229  0   2       129     1     2.6     2     2.0 7.0  1 \n",
              "4 37  1   3  130       250  0   0       187     0     3.5     3     0.0 3.0  0 \n",
              "5 41  0   2  130       204  0   2       172     0     1.4     1     0.0 3.0  0 \n",
              "6 56  1   2  120       236  0   0       178     0     0.8     1     0.0 3.0  0 "
            ]
          },
          "metadata": {}
        }
      ]
    },
    {
      "cell_type": "code",
      "source": [
        "str(data)"
      ],
      "metadata": {
        "colab": {
          "base_uri": "https://localhost:8080/"
        },
        "id": "MVFaFle5KuCz",
        "outputId": "97869986-a313-40af-9722-ad39f89502d7"
      },
      "execution_count": 5,
      "outputs": [
        {
          "output_type": "stream",
          "name": "stdout",
          "text": [
            "'data.frame':\t303 obs. of  14 variables:\n",
            " $ age      : num  63 67 67 37 41 56 62 57 63 53 ...\n",
            " $ sex      : num  1 1 1 1 0 1 0 0 1 1 ...\n",
            " $ cp       : num  1 4 4 3 2 2 4 4 4 4 ...\n",
            " $ trestbbps: num  145 160 120 130 130 120 140 120 130 140 ...\n",
            " $ chol     : num  233 286 229 250 204 236 268 354 254 203 ...\n",
            " $ fbs      : num  1 0 0 0 0 0 0 0 0 1 ...\n",
            " $ restecg  : num  2 2 2 0 2 0 2 0 2 2 ...\n",
            " $ thalach  : num  150 108 129 187 172 178 160 163 147 155 ...\n",
            " $ exang    : num  0 1 1 0 0 0 0 1 0 1 ...\n",
            " $ oldpeak  : num  2.3 1.5 2.6 3.5 1.4 0.8 3.6 0.6 1.4 3.1 ...\n",
            " $ slope    : num  3 2 2 3 1 1 3 1 2 3 ...\n",
            " $ ca       : chr  \"0.0\" \"3.0\" \"2.0\" \"0.0\" ...\n",
            " $ thal     : chr  \"6.0\" \"3.0\" \"7.0\" \"3.0\" ...\n",
            " $ hd       : int  0 2 1 0 0 0 3 0 2 1 ...\n"
          ]
        }
      ]
    },
    {
      "cell_type": "code",
      "source": [
        "data[data==\"?\"]<-NA"
      ],
      "metadata": {
        "id": "ATXOB7EJK-pn"
      },
      "execution_count": 6,
      "outputs": []
    },
    {
      "cell_type": "code",
      "source": [
        "data[data$sex==0,]$sex<-\"F\"\n",
        "data[data$sex==1,]$sex<-\"M\"\n",
        "data$sex<-as.factor(data$sex)"
      ],
      "metadata": {
        "id": "eU8aDcHVLLqD"
      },
      "execution_count": 7,
      "outputs": []
    },
    {
      "cell_type": "code",
      "source": [
        "data$cp<-as.factor(data$cp)\n",
        "data$fbs<-as.factor(data$fbs)\n",
        "data$restecg<-as.factor(data$restecg)\n",
        "data$exang<-as.factor(data$exang)\n",
        "data$slope<-as.factor(data$slope)\n",
        "data$ca<-as.integer(data$ca)\n",
        "data$ca<-as.factor(data$ca)\n",
        "data$thal<-as.integer(data$thal)\n",
        "data$thal<-as.factor(data$thal)\n",
        "data$hd<-ifelse(test=data$hd==0,yes=\"Healthy\",no=\"Unhealthy\")\n",
        "data$hd<-as.factor(data$hd)"
      ],
      "metadata": {
        "id": "hIKUvJIOQckB"
      },
      "execution_count": 8,
      "outputs": []
    },
    {
      "cell_type": "code",
      "source": [
        "str(data)"
      ],
      "metadata": {
        "colab": {
          "base_uri": "https://localhost:8080/"
        },
        "id": "AkuAsjdSTYf5",
        "outputId": "11b60330-db32-4ff6-ceb0-aac8df5bb9f3"
      },
      "execution_count": 9,
      "outputs": [
        {
          "output_type": "stream",
          "name": "stdout",
          "text": [
            "'data.frame':\t303 obs. of  14 variables:\n",
            " $ age      : num  63 67 67 37 41 56 62 57 63 53 ...\n",
            " $ sex      : Factor w/ 2 levels \"F\",\"M\": 2 2 2 2 1 2 1 1 2 2 ...\n",
            " $ cp       : Factor w/ 4 levels \"1\",\"2\",\"3\",\"4\": 1 4 4 3 2 2 4 4 4 4 ...\n",
            " $ trestbbps: num  145 160 120 130 130 120 140 120 130 140 ...\n",
            " $ chol     : num  233 286 229 250 204 236 268 354 254 203 ...\n",
            " $ fbs      : Factor w/ 2 levels \"0\",\"1\": 2 1 1 1 1 1 1 1 1 2 ...\n",
            " $ restecg  : Factor w/ 3 levels \"0\",\"1\",\"2\": 3 3 3 1 3 1 3 1 3 3 ...\n",
            " $ thalach  : num  150 108 129 187 172 178 160 163 147 155 ...\n",
            " $ exang    : Factor w/ 2 levels \"0\",\"1\": 1 2 2 1 1 1 1 2 1 2 ...\n",
            " $ oldpeak  : num  2.3 1.5 2.6 3.5 1.4 0.8 3.6 0.6 1.4 3.1 ...\n",
            " $ slope    : Factor w/ 3 levels \"1\",\"2\",\"3\": 3 2 2 3 1 1 3 1 2 3 ...\n",
            " $ ca       : Factor w/ 4 levels \"0\",\"1\",\"2\",\"3\": 1 4 3 1 1 1 3 1 2 1 ...\n",
            " $ thal     : Factor w/ 3 levels \"3\",\"6\",\"7\": 2 1 3 1 1 1 1 1 3 3 ...\n",
            " $ hd       : Factor w/ 2 levels \"Healthy\",\"Unhealthy\": 1 2 2 1 1 1 2 1 2 2 ...\n"
          ]
        }
      ]
    },
    {
      "cell_type": "code",
      "source": [
        "nrow(data[is.na(data$ca)|is.na(data$thal),])"
      ],
      "metadata": {
        "colab": {
          "base_uri": "https://localhost:8080/",
          "height": 34
        },
        "id": "zIvtjGSRT7oS",
        "outputId": "546286b4-9040-4d32-a4f7-32b0d5f0125d"
      },
      "execution_count": 10,
      "outputs": [
        {
          "output_type": "display_data",
          "data": {
            "text/html": [
              "6"
            ],
            "text/markdown": "6",
            "text/latex": "6",
            "text/plain": [
              "[1] 6"
            ]
          },
          "metadata": {}
        }
      ]
    },
    {
      "cell_type": "code",
      "source": [
        "data[is.na(data$ca)|is.na(data$thal),]"
      ],
      "metadata": {
        "colab": {
          "base_uri": "https://localhost:8080/",
          "height": 283
        },
        "id": "DV0t3kmBUYRB",
        "outputId": "ba0e26d7-a245-453b-86f4-d61335ac0195"
      },
      "execution_count": 11,
      "outputs": [
        {
          "output_type": "display_data",
          "data": {
            "text/html": [
              "<table class=\"dataframe\">\n",
              "<caption>A data.frame: 6 × 14</caption>\n",
              "<thead>\n",
              "\t<tr><th></th><th scope=col>age</th><th scope=col>sex</th><th scope=col>cp</th><th scope=col>trestbbps</th><th scope=col>chol</th><th scope=col>fbs</th><th scope=col>restecg</th><th scope=col>thalach</th><th scope=col>exang</th><th scope=col>oldpeak</th><th scope=col>slope</th><th scope=col>ca</th><th scope=col>thal</th><th scope=col>hd</th></tr>\n",
              "\t<tr><th></th><th scope=col>&lt;dbl&gt;</th><th scope=col>&lt;fct&gt;</th><th scope=col>&lt;fct&gt;</th><th scope=col>&lt;dbl&gt;</th><th scope=col>&lt;dbl&gt;</th><th scope=col>&lt;fct&gt;</th><th scope=col>&lt;fct&gt;</th><th scope=col>&lt;dbl&gt;</th><th scope=col>&lt;fct&gt;</th><th scope=col>&lt;dbl&gt;</th><th scope=col>&lt;fct&gt;</th><th scope=col>&lt;fct&gt;</th><th scope=col>&lt;fct&gt;</th><th scope=col>&lt;fct&gt;</th></tr>\n",
              "</thead>\n",
              "<tbody>\n",
              "\t<tr><th scope=row>88</th><td>53</td><td>F</td><td>3</td><td>128</td><td>216</td><td>0</td><td>2</td><td>115</td><td>0</td><td>0.0</td><td>1</td><td>0 </td><td>NA</td><td>Healthy  </td></tr>\n",
              "\t<tr><th scope=row>167</th><td>52</td><td>M</td><td>3</td><td>138</td><td>223</td><td>0</td><td>0</td><td>169</td><td>0</td><td>0.0</td><td>1</td><td>NA</td><td>3 </td><td>Healthy  </td></tr>\n",
              "\t<tr><th scope=row>193</th><td>43</td><td>M</td><td>4</td><td>132</td><td>247</td><td>1</td><td>2</td><td>143</td><td>1</td><td>0.1</td><td>2</td><td>NA</td><td>7 </td><td>Unhealthy</td></tr>\n",
              "\t<tr><th scope=row>267</th><td>52</td><td>M</td><td>4</td><td>128</td><td>204</td><td>1</td><td>0</td><td>156</td><td>1</td><td>1.0</td><td>2</td><td>0 </td><td>NA</td><td>Unhealthy</td></tr>\n",
              "\t<tr><th scope=row>288</th><td>58</td><td>M</td><td>2</td><td>125</td><td>220</td><td>0</td><td>0</td><td>144</td><td>0</td><td>0.4</td><td>2</td><td>NA</td><td>7 </td><td>Healthy  </td></tr>\n",
              "\t<tr><th scope=row>303</th><td>38</td><td>M</td><td>3</td><td>138</td><td>175</td><td>0</td><td>0</td><td>173</td><td>0</td><td>0.0</td><td>1</td><td>NA</td><td>3 </td><td>Healthy  </td></tr>\n",
              "</tbody>\n",
              "</table>\n"
            ],
            "text/markdown": "\nA data.frame: 6 × 14\n\n| <!--/--> | age &lt;dbl&gt; | sex &lt;fct&gt; | cp &lt;fct&gt; | trestbbps &lt;dbl&gt; | chol &lt;dbl&gt; | fbs &lt;fct&gt; | restecg &lt;fct&gt; | thalach &lt;dbl&gt; | exang &lt;fct&gt; | oldpeak &lt;dbl&gt; | slope &lt;fct&gt; | ca &lt;fct&gt; | thal &lt;fct&gt; | hd &lt;fct&gt; |\n|---|---|---|---|---|---|---|---|---|---|---|---|---|---|---|\n| 88 | 53 | F | 3 | 128 | 216 | 0 | 2 | 115 | 0 | 0.0 | 1 | 0  | NA | Healthy   |\n| 167 | 52 | M | 3 | 138 | 223 | 0 | 0 | 169 | 0 | 0.0 | 1 | NA | 3  | Healthy   |\n| 193 | 43 | M | 4 | 132 | 247 | 1 | 2 | 143 | 1 | 0.1 | 2 | NA | 7  | Unhealthy |\n| 267 | 52 | M | 4 | 128 | 204 | 1 | 0 | 156 | 1 | 1.0 | 2 | 0  | NA | Unhealthy |\n| 288 | 58 | M | 2 | 125 | 220 | 0 | 0 | 144 | 0 | 0.4 | 2 | NA | 7  | Healthy   |\n| 303 | 38 | M | 3 | 138 | 175 | 0 | 0 | 173 | 0 | 0.0 | 1 | NA | 3  | Healthy   |\n\n",
            "text/latex": "A data.frame: 6 × 14\n\\begin{tabular}{r|llllllllllllll}\n  & age & sex & cp & trestbbps & chol & fbs & restecg & thalach & exang & oldpeak & slope & ca & thal & hd\\\\\n  & <dbl> & <fct> & <fct> & <dbl> & <dbl> & <fct> & <fct> & <dbl> & <fct> & <dbl> & <fct> & <fct> & <fct> & <fct>\\\\\n\\hline\n\t88 & 53 & F & 3 & 128 & 216 & 0 & 2 & 115 & 0 & 0.0 & 1 & 0  & NA & Healthy  \\\\\n\t167 & 52 & M & 3 & 138 & 223 & 0 & 0 & 169 & 0 & 0.0 & 1 & NA & 3  & Healthy  \\\\\n\t193 & 43 & M & 4 & 132 & 247 & 1 & 2 & 143 & 1 & 0.1 & 2 & NA & 7  & Unhealthy\\\\\n\t267 & 52 & M & 4 & 128 & 204 & 1 & 0 & 156 & 1 & 1.0 & 2 & 0  & NA & Unhealthy\\\\\n\t288 & 58 & M & 2 & 125 & 220 & 0 & 0 & 144 & 0 & 0.4 & 2 & NA & 7  & Healthy  \\\\\n\t303 & 38 & M & 3 & 138 & 175 & 0 & 0 & 173 & 0 & 0.0 & 1 & NA & 3  & Healthy  \\\\\n\\end{tabular}\n",
            "text/plain": [
              "    age sex cp trestbbps chol fbs restecg thalach exang oldpeak slope ca thal\n",
              "88  53  F   3  128       216  0   2       115     0     0.0     1     0  NA  \n",
              "167 52  M   3  138       223  0   0       169     0     0.0     1     NA 3   \n",
              "193 43  M   4  132       247  1   2       143     1     0.1     2     NA 7   \n",
              "267 52  M   4  128       204  1   0       156     1     1.0     2     0  NA  \n",
              "288 58  M   2  125       220  0   0       144     0     0.4     2     NA 7   \n",
              "303 38  M   3  138       175  0   0       173     0     0.0     1     NA 3   \n",
              "    hd       \n",
              "88  Healthy  \n",
              "167 Healthy  \n",
              "193 Unhealthy\n",
              "267 Unhealthy\n",
              "288 Healthy  \n",
              "303 Healthy  "
            ]
          },
          "metadata": {}
        }
      ]
    },
    {
      "cell_type": "code",
      "source": [
        "data<-data[!(is.na(data$ca)|is.na(data$thal)),]\n",
        "nrow(data)"
      ],
      "metadata": {
        "colab": {
          "base_uri": "https://localhost:8080/",
          "height": 34
        },
        "id": "b9frJNvrU-gN",
        "outputId": "c9c86a3f-8f5d-4cde-d5fd-f87f1449cf1c"
      },
      "execution_count": 12,
      "outputs": [
        {
          "output_type": "display_data",
          "data": {
            "text/html": [
              "297"
            ],
            "text/markdown": "297",
            "text/latex": "297",
            "text/plain": [
              "[1] 297"
            ]
          },
          "metadata": {}
        }
      ]
    },
    {
      "cell_type": "code",
      "source": [
        "logistic<-glm(hd~.,data=data,family=\"binomial\")"
      ],
      "metadata": {
        "id": "rFHo61btWzKj"
      },
      "execution_count": 13,
      "outputs": []
    },
    {
      "cell_type": "code",
      "source": [
        "summary(logistic)"
      ],
      "metadata": {
        "colab": {
          "base_uri": "https://localhost:8080/",
          "height": 714
        },
        "id": "Sks43xVucM7V",
        "outputId": "ed567184-3d27-4898-ad5a-0df5da253747"
      },
      "execution_count": 14,
      "outputs": [
        {
          "output_type": "display_data",
          "data": {
            "text/plain": [
              "\n",
              "Call:\n",
              "glm(formula = hd ~ ., family = \"binomial\", data = data)\n",
              "\n",
              "Deviance Residuals: \n",
              "    Min       1Q   Median       3Q      Max  \n",
              "-3.0490  -0.4847  -0.1213   0.3039   2.9086  \n",
              "\n",
              "Coefficients:\n",
              "             Estimate Std. Error z value Pr(>|z|)    \n",
              "(Intercept) -6.253978   2.960399  -2.113 0.034640 *  \n",
              "age         -0.023508   0.025122  -0.936 0.349402    \n",
              "sexM         1.670152   0.552486   3.023 0.002503 ** \n",
              "cp2          1.448396   0.809136   1.790 0.073446 .  \n",
              "cp3          0.393353   0.700338   0.562 0.574347    \n",
              "cp4          2.373287   0.709094   3.347 0.000817 ***\n",
              "trestbbps    0.027720   0.011748   2.359 0.018300 *  \n",
              "chol         0.004445   0.004091   1.087 0.277253    \n",
              "fbs1        -0.574079   0.592539  -0.969 0.332622    \n",
              "restecg1     1.000887   2.638393   0.379 0.704424    \n",
              "restecg2     0.486408   0.396327   1.227 0.219713    \n",
              "thalach     -0.019695   0.011717  -1.681 0.092781 .  \n",
              "exang1       0.653306   0.447445   1.460 0.144267    \n",
              "oldpeak      0.390679   0.239173   1.633 0.102373    \n",
              "slope2       1.302289   0.486197   2.679 0.007395 ** \n",
              "slope3       0.606760   0.939324   0.646 0.518309    \n",
              "ca1          2.237444   0.514770   4.346 1.38e-05 ***\n",
              "ca2          3.271852   0.785123   4.167 3.08e-05 ***\n",
              "ca3          2.188715   0.928644   2.357 0.018428 *  \n",
              "thal6       -0.168439   0.810310  -0.208 0.835331    \n",
              "thal7        1.433319   0.440567   3.253 0.001141 ** \n",
              "---\n",
              "Signif. codes:  0 ‘***’ 0.001 ‘**’ 0.01 ‘*’ 0.05 ‘.’ 0.1 ‘ ’ 1\n",
              "\n",
              "(Dispersion parameter for binomial family taken to be 1)\n",
              "\n",
              "    Null deviance: 409.95  on 296  degrees of freedom\n",
              "Residual deviance: 183.10  on 276  degrees of freedom\n",
              "AIC: 225.1\n",
              "\n",
              "Number of Fisher Scoring iterations: 6\n"
            ]
          },
          "metadata": {}
        }
      ]
    },
    {
      "cell_type": "code",
      "source": [
        "predicted.data<-data.frame(\n",
        "  probability.of.hd=logistic$fitted.values,\n",
        "  hd=data$hd)"
      ],
      "metadata": {
        "id": "l74TTQwHX671"
      },
      "execution_count": 15,
      "outputs": []
    },
    {
      "cell_type": "code",
      "source": [
        "predicted.data<-predicted.data[\n",
        "  order(predicted.data$probability.of.hd,decreasing=FALSE),\n",
        "  ]\n",
        "predicted.data$rank<-1:nrow(predicted.data)"
      ],
      "metadata": {
        "id": "pUkqA3muaI7D"
      },
      "execution_count": 16,
      "outputs": []
    },
    {
      "cell_type": "code",
      "source": [
        "library(ggplot2)"
      ],
      "metadata": {
        "id": "p69uMxQCaqBv"
      },
      "execution_count": 17,
      "outputs": []
    },
    {
      "cell_type": "code",
      "source": [
        "ggplot(data=predicted.data,aes(x=rank,y=probability.of.hd))+\n",
        "  geom_point(aes(color=hd),alpha=1,shape=4,stroke=2)+\n",
        "  xlab(\"Index\")+\n",
        "  ylab(\"Predictedprobabilityofgettinggeartdisease\")\n",
        "ggsave(\"heart_disease_probabilities.pdf\")"
      ],
      "metadata": {
        "colab": {
          "base_uri": "https://localhost:8080/",
          "height": 454
        },
        "id": "v21k8bn7a5TG",
        "outputId": "1e37772b-da51-42a2-9b02-1265e5df25d6"
      },
      "execution_count": 18,
      "outputs": [
        {
          "output_type": "stream",
          "name": "stderr",
          "text": [
            "\u001b[1m\u001b[22mSaving 6.67 x 6.67 in image\n"
          ]
        },
        {
          "output_type": "display_data",
          "data": {
            "text/plain": [
              "plot without title"
            ],
            "image/png": "[encoded data removed]"
          },
          "metadata": {
            "image/png": {
              "width": 420,
              "height": 420
            }
          }
        }
      ]
    }
  ]
}